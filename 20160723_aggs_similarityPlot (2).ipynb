{
 "cells": [
  {
   "cell_type": "markdown",
   "metadata": {
    "collapsed": false
   },
   "source": [
    "#範例宗旨#\n",
    "\n",
    "我們使用下列的程式碼來說明如何將ElasticSearch Aggregation的結果轉換成矩陣。"
   ]
  },
  {
   "cell_type": "code",
   "execution_count": null,
   "metadata": {
    "collapsed": true
   },
   "outputs": [],
   "source": [
    "import pyes\n",
    "import json\n",
    "\n",
    "conn=pyes.es.ES('localhost:9200')\n",
    "q = pyes.MatchAllQuery()\n",
    "\n",
    "# 針對actor_email與geoip_countryName進行aggregation\n",
    "# 每一個帳號他從哪些國家登入系統的紀錄\n",
    "# 預期得到的結果是: userA從us登入幾次，從tw登入幾次....\n",
    "tagg = pyes.aggs.TermsAgg('user', field= 'actor_email', sub_aggs=[]) \n",
    "tagg1 = pyes.aggs.TermsAgg('country', field= 'geoip_countryName')  \n",
    "tagg.sub_aggs.append(tagg1) \n",
    "# 將tagg1加到tagg.sub_aggs裡面。\n",
    "qsearch = pyes.query.Search(q) \n",
    "# This \"Search\" is under pyes.query, http://pydoc.net/Python/pyes/0.99.5/pyes.query\n",
    "qsearch.agg.add(tagg)\n",
    "\n",
    "rs = conn.search(query=qsearch, indices='google' ,type=\"drive\" )\n",
    "print json.dumps(rs.aggs,indent=2)\n",
    "#print rs.aggs"
   ]
  },
  {
   "cell_type": "markdown",
   "metadata": {},
   "source": [
    "建立row與col的index List，用來對應後續es雙層aggregation的資料，以便填入矩陣中"
   ]
  },
  {
   "cell_type": "code",
   "execution_count": 3,
   "metadata": {
    "collapsed": false
   },
   "outputs": [
    {
     "name": "stdout",
     "output_type": "stream",
     "text": [
      "35\n",
      "7\n"
     ]
    }
   ],
   "source": [
    "rowIndexList = []\n",
    "colIndexList = []\n",
    "for user in rs.aggs['user']['buckets']:\n",
    "    #排除空白的帳號以及已放入rowIndexList的帳號\n",
    "    if user['key']!=\"\" and user['key'] not in rowIndexList:\n",
    "        rowIndexList.append(user['key'])\n",
    "    \n",
    "    for country in user['country']['buckets']:\n",
    "        if country['key'] not in colIndexList:\n",
    "            colIndexList.append(country['key'])\n",
    "\n",
    "print len(rowIndexList)\n",
    "print len(colIndexList)\n"
   ]
  },
  {
   "cell_type": "markdown",
   "metadata": {},
   "source": [
    "建立一個空白陣列，在python中，空白矩陣List包List [[...],[...],...]\n",
    "初始化矩陣"
   ]
  },
  {
   "cell_type": "code",
   "execution_count": 11,
   "metadata": {
    "collapsed": false
   },
   "outputs": [],
   "source": [
    "matrix=[]\n",
    "for i in range(0,len(rowIndexList)):\n",
    "    matrix.append([0.0]*len(colIndexList))\n",
    "#matrix"
   ]
  },
  {
   "cell_type": "markdown",
   "metadata": {},
   "source": [
    "借重rowIndexList與colIndexList, 將rs.aggs使用者與國家的次數，填入matrix裡面"
   ]
  },
  {
   "cell_type": "code",
   "execution_count": 13,
   "metadata": {
    "collapsed": false
   },
   "outputs": [],
   "source": [
    "for user in rs.aggs['user']['buckets']:\n",
    "    if user['key'] in rowIndexList:\n",
    "        for country in user['country']['buckets']:\n",
    "            if country['key'] in colIndexList:\n",
    "                matrix[rowIndexList.index(user['key'])][colIndexList.index(country['key'])]= float(country['doc_count'])"
   ]
  },
  {
   "cell_type": "markdown",
   "metadata": {},
   "source": [
    "為了後續運算，借重numpy套件，幫助我們進行線性代數等相關數學處理，所以將matrix這個雙層Python List資料格式，轉換為numpy的data matrix格式"
   ]
  },
  {
   "cell_type": "code",
   "execution_count": 51,
   "metadata": {
    "collapsed": false
   },
   "outputs": [],
   "source": [
    "import numpy as np\n",
    "from sklearn.metrics.pairwise import cosine_similarity\n",
    "\n",
    "#data user從哪些來源國家的次數\n",
    "data1 = np.array(matrix)\n",
    "#data user從哪些來源國家的表準化次數(介於0~1之間)\n",
    "data_norm = data1 / np.linalg.norm(data1)\n",
    "#user-user的距離矩陣(相鄰矩陣 proximity matrix, distance matrix, adjacency matrix)\n",
    "dist_data_norm = 1-cosine_similarity(data_norm)\n",
    "\n",
    "dist_data = cosine_similarity(data1)"
   ]
  },
  {
   "cell_type": "code",
   "execution_count": 53,
   "metadata": {
    "collapsed": true
   },
   "outputs": [],
   "source": [
    "nodes=[]\n",
    "for user in rowIndexList:\n",
    "    u={}\n",
    "    u['group']=1\n",
    "    u['name']=user\n",
    "    nodes.append(u)\n",
    "\n",
    "links=[]\n",
    "\n",
    "\n",
    "\n",
    "for i in range(0,len(dist_data)):\n",
    "    for j in range(0,len(dist_data[i])):\n",
    "        l={}\n",
    "        l['source']=i\n",
    "        l['target']=j\n",
    "        l['value']=float(dist_data[i][j])\n",
    "        links.append(l)\n",
    "\n",
    "data={}\n",
    "data['links']=links\n",
    "data['nodes']=nodes"
   ]
  },
  {
   "cell_type": "code",
   "execution_count": 54,
   "metadata": {
    "collapsed": false
   },
   "outputs": [],
   "source": [
    "import numpy as np\n",
    "\n",
    "from bokeh.plotting import figure, show, output_file\n",
    "from bokeh.models import HoverTool, ColumnDataSource\n",
    "\n",
    "\n",
    "\n",
    "nodes = data['nodes']\n",
    "names = [node['name'] for node in sorted(data['nodes'], key=lambda x: x['group'])]\n",
    "\n",
    "N = len(nodes)\n",
    "counts = np.zeros((N, N))\n",
    "for link in data['links']:\n",
    "    counts[link['source'], link['target']] = link['value']\n",
    "    counts[link['target'], link['source']] = link['value']\n",
    "\n",
    "colormap = [\"#444444\", \"#a6cee3\", \"#1f78b4\", \"#b2df8a\", \"#33a02c\", \"#fb9a99\",\n",
    "            \"#e31a1c\", \"#fdbf6f\", \"#ff7f00\", \"#cab2d6\", \"#6a3d9a\"]\n",
    "\n",
    "xname = []\n",
    "yname = []\n",
    "color = []\n",
    "alpha = []\n",
    "for i, node1 in enumerate(nodes):\n",
    "    for j, node2 in enumerate(nodes):\n",
    "        xname.append(node1['name'])\n",
    "        yname.append(node2['name'])\n",
    "\n",
    "        alpha.append(min(counts[i,j]/4.0, 0.9) + 0.1)\n",
    "\n",
    "        if node1['group'] == node2['group']:\n",
    "            color.append(colormap[node1['group']])\n",
    "        else:\n",
    "            color.append('lightgrey')\n",
    "\n",
    "source = ColumnDataSource(data=dict(\n",
    "    xname=xname,\n",
    "    yname=yname,\n",
    "    colors=color,\n",
    "    alphas=alpha,\n",
    "    count=counts.flatten(),\n",
    "))\n",
    "\n",
    "p = figure(title=\"Les Mis Occurrences\",\n",
    "           x_axis_location=\"above\", tools=\"hover,save\",\n",
    "           x_range=list(reversed(names)), y_range=names)\n",
    "\n",
    "p.plot_width = 800\n",
    "p.plot_height = 800\n",
    "p.grid.grid_line_color = None\n",
    "p.axis.axis_line_color = None\n",
    "p.axis.major_tick_line_color = None\n",
    "p.axis.major_label_text_font_size = \"5pt\"\n",
    "p.axis.major_label_standoff = 0\n",
    "p.xaxis.major_label_orientation = np.pi/3\n",
    "\n",
    "p.rect('xname', 'yname', 0.9, 0.9, source=source,\n",
    "       color='colors', alpha='alphas', line_color=None)\n",
    "\n",
    "p.select_one(HoverTool).tooltips = [\n",
    "    ('names', '@yname, @xname'),\n",
    "    ('count', '@count'),\n",
    "]\n",
    "\n",
    "output_file(\"les_mis.html\", title=\"les_mis.py example\")\n",
    "\n",
    "show(p) # show the plot"
   ]
  },
  {
   "cell_type": "code",
   "execution_count": 41,
   "metadata": {
    "collapsed": false
   },
   "outputs": [],
   "source": [
    "\n"
   ]
  },
  {
   "cell_type": "code",
   "execution_count": null,
   "metadata": {
    "collapsed": true
   },
   "outputs": [],
   "source": []
  }
 ],
 "metadata": {
  "anaconda-cloud": {},
  "kernelspec": {
   "display_name": "Python [Root]",
   "language": "python",
   "name": "Python [Root]"
  },
  "language_info": {
   "codemirror_mode": {
    "name": "ipython",
    "version": 2
   },
   "file_extension": ".py",
   "mimetype": "text/x-python",
   "name": "python",
   "nbconvert_exporter": "python",
   "pygments_lexer": "ipython2",
   "version": "2.7.12"
  }
 },
 "nbformat": 4,
 "nbformat_minor": 0
}
